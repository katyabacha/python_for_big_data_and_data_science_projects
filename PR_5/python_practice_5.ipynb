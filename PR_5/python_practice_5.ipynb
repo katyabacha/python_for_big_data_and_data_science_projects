{
 "cells": [
  {
   "cell_type": "markdown",
   "metadata": {
    "id": "5qV_sehzFCTp"
   },
   "source": [
    "# I. OOP"
   ]
  },
  {
   "cell_type": "markdown",
   "metadata": {
    "id": "tx_U_hOALyfg"
   },
   "source": [
    "1. (6б). Створіть клас Animal, додайте три атрибути, один з яких має значення за замовчуванням та два методи на свій розсуд."
   ]
  },
  {
   "cell_type": "code",
   "execution_count": 22,
   "metadata": {
    "id": "-Vf895KaL88N"
   },
   "outputs": [
    {
     "name": "stdout",
     "output_type": "stream",
     "text": [
      "The tiger is orange and has 4 legs \n",
      "Our animal: tiger\n"
     ]
    }
   ],
   "source": [
    "class Animal():\n",
    "    def __init__(self, name, color, legs = 4):\n",
    "        self.name = name\n",
    "        self.color = color\n",
    "        self.legs = legs\n",
    "\n",
    "    def get_name(self):\n",
    "        return self.name\n",
    "\n",
    "    def get_color(self):\n",
    "        return self.color\n",
    "    \n",
    "    def __str__(self):\n",
    "       return f\"The {self.name} is {self.color} and has {self.legs} legs\"\n",
    "    \n",
    "animal = Animal(\"tiger\", \"orange\")\n",
    "animal_name = animal.get_name()\n",
    "print(animal1, \"\\nOur animal:\", animal_name)\n"
   ]
  },
  {
   "cell_type": "markdown",
   "metadata": {
    "id": "X_UlOMB0L93w"
   },
   "source": [
    "2. (2б). Створіть два обʼєкти цього класу, де один з обʼєктів створюється із дефолтним значенням атрибуту. На одному обʼєкті отримайте значення його атрибуту, а на іншому викличте один з його методів."
   ]
  },
  {
   "cell_type": "code",
   "execution_count": 26,
   "metadata": {
    "id": "7gBu0ESOMCpG"
   },
   "outputs": [
    {
     "name": "stdout",
     "output_type": "stream",
     "text": [
      "The frog is green and has 4 legs\n",
      "The parrot is colorful and has 2 legs\n"
     ]
    }
   ],
   "source": [
    "animal1 = Animal(\"frog\", \"green\")\n",
    "animal2 = Animal(\"parrot\", \"colorful\", 2) \n",
    "print(animal1)\n",
    "print(animal2)"
   ]
  },
  {
   "cell_type": "markdown",
   "metadata": {
    "id": "HoqSCZt1MHn5"
   },
   "source": [
    "3. (5б). Створіть клас, де атрибути мають різні рівні доступу. Спробуйте отримати їхні значення та опишіть результати."
   ]
  },
  {
   "cell_type": "code",
   "execution_count": 29,
   "metadata": {
    "id": "r9b3vJxBMSPV"
   },
   "outputs": [
    {
     "name": "stdout",
     "output_type": "stream",
     "text": [
      "This atribute is Public\n",
      "This atribute is Protected\n"
     ]
    },
    {
     "ename": "AttributeError",
     "evalue": "'Class' object has no attribute '__x'",
     "output_type": "error",
     "traceback": [
      "\u001b[1;31m---------------------------------------------------------------------------\u001b[0m",
      "\u001b[1;31mAttributeError\u001b[0m                            Traceback (most recent call last)",
      "Cell \u001b[1;32mIn[29], line 10\u001b[0m\n\u001b[0;32m      8\u001b[0m \u001b[38;5;28mprint\u001b[39m(\u001b[38;5;124m\"\u001b[39m\u001b[38;5;124mThis atribute is\u001b[39m\u001b[38;5;124m\"\u001b[39m, x\u001b[38;5;241m.\u001b[39mx)\n\u001b[0;32m      9\u001b[0m \u001b[38;5;28mprint\u001b[39m(\u001b[38;5;124m\"\u001b[39m\u001b[38;5;124mThis atribute is\u001b[39m\u001b[38;5;124m\"\u001b[39m, x\u001b[38;5;241m.\u001b[39m_x)\n\u001b[1;32m---> 10\u001b[0m \u001b[38;5;28mprint\u001b[39m(\u001b[38;5;124m\"\u001b[39m\u001b[38;5;124mThis atribute is\u001b[39m\u001b[38;5;124m\"\u001b[39m, \u001b[43mx\u001b[49m\u001b[38;5;241;43m.\u001b[39;49m\u001b[43m__x\u001b[49m)\n",
      "\u001b[1;31mAttributeError\u001b[0m: 'Class' object has no attribute '__x'"
     ]
    }
   ],
   "source": [
    "class Class():\n",
    "   def __init__(self):\n",
    "        self.x = \"Public\"\n",
    "        self._x = \"Protected\"\n",
    "        self.__x = \"Private\"\n",
    "\n",
    "x = Class()\n",
    "print(\"This atribute is\", x.x) #атрибут є публічним(доступний ззовні класу), нічого не заважає його виводу\n",
    "print(\"This atribute is\", x._x) #атрибут є захищеним(призначений для використання в серелині класу), але ми всеодно можемо вивести йго за потреби\n",
    "print(\"This atribute is\", x.__x) #атрибут є приветнм(використовується тільки всередині класу), його не можливо вивести, бо зразу викидає помилкку"
   ]
  },
  {
   "cell_type": "markdown",
   "metadata": {
    "id": "5op2m2vgMSkZ"
   },
   "source": [
    "4. (7б). Як ви розумієте термін self? Для чого використовується метод __init __?"
   ]
  },
  {
   "cell_type": "markdown",
   "metadata": {
    "id": "DyiPqNRvMasx"
   },
   "source": [
    "self є спеціальним параметр у методах класу, який посилається на конкретний екземпляр класу, з яким взаємодіємо.\n",
    "д __init_є е спеціальм й метомon, який автоматично викликається при створенні нового екземпляра кла(конструктор)с\n",
    "\r\n",
    "\r\n",
    "\r\n",
    "цій."
   ]
  },
  {
   "cell_type": "markdown",
   "metadata": {
    "id": "-6X8EGfjMd2y"
   },
   "source": [
    "5. (9б). Створіть клас Фігура без атрибутів, з методом get_area для отримання площі фігури, що повертає 0 та __add __, який приймає self та other в якості аргументів, а повертає суму площин фігур self та other."
   ]
  },
  {
   "cell_type": "code",
   "execution_count": 40,
   "metadata": {
    "id": "4rvO_wYUMaEr"
   },
   "outputs": [],
   "source": [
    "class Figure():\n",
    "    def get_area():\n",
    "        return 0\n",
    "    \n",
    "    def __add__(self, other):\n",
    "        return self.get_area() + other.get_area()    "
   ]
  },
  {
   "cell_type": "markdown",
   "metadata": {
    "id": "SFcKnnv5Mo_z"
   },
   "source": [
    "6. (11б). Створіть 2 дочірніх класи від Фігури: Трикутник та Коло, які мають атрибути, необхідні для розрахунку площин. Визначте метод get_area в кожному з них так, щоби вони розраховували площу в залежності від формули для кожного типу фігури. Створіть обʼєкт класу Трикутник та обʼєкт класу Коло. Виконайте операцію суми за допомогою оператора + між ними."
   ]
  },
  {
   "cell_type": "code",
   "execution_count": 41,
   "metadata": {
    "id": "H3GVNr69Muf3"
   },
   "outputs": [
    {
     "name": "stdout",
     "output_type": "stream",
     "text": [
      "Triangle area: 10.0\n",
      "Circle area: 28.274333882308138\n",
      "Total area: 38.27433388230814\n"
     ]
    }
   ],
   "source": [
    "import math\n",
    "\n",
    "class Triangle(Figure):\n",
    "    def __init__(self, side, height):\n",
    "        self.side = side\n",
    "        self.height = height\n",
    "        \n",
    "    def get_area(self):\n",
    "        return 0.5 * self.height * self.side\n",
    "            \n",
    "class Circle(Figure):\n",
    "    def __init__(self, radius):\n",
    "        self.radius = radius\n",
    "        \n",
    "    def get_area(self):\n",
    "       return math.pi * self.radius ** 2\n",
    "    \n",
    "triangle = Triangle(5, 4)\n",
    "circle = Circle(3)\n",
    "\n",
    "triangle_area = triangle.get_area()\n",
    "circle_area = circle.get_area()\n",
    "total_area = triangle + circle\n",
    "\n",
    "print(\"Triangle area:\", triangle_area)\n",
    "print(\"Circle area:\", circle_area)\n",
    "print(\"Total area:\", total_area)"
   ]
  },
  {
   "cell_type": "markdown",
   "metadata": {
    "id": "HCvR206YMvLK"
   },
   "source": [
    "7. (3б). Продемонструйте різницю між isinstance та issubclass."
   ]
  },
  {
   "cell_type": "code",
   "execution_count": 44,
   "metadata": {
    "id": "L_V1bBvDM0GN"
   },
   "outputs": [
    {
     "name": "stdout",
     "output_type": "stream",
     "text": [
      "figure is instance of Figure: True\n",
      "figure is instance of Triangle: False\n",
      "triangle is instance of Figure: True\n",
      "triangle is instance of Triangle: True\n",
      "Triangle is subclass of Figure: True\n",
      "Figure is subclass of Triangle: False\n"
     ]
    }
   ],
   "source": [
    "figure = Figure()\n",
    "# Перевірка, чи є об'єкти екземплярами певних класів\n",
    "print(\"figure is instance of Figure:\", isinstance(figure, Figure))\n",
    "print(\"figure is instance of Triangle:\", isinstance(figure, Triangle))\n",
    "print(\"triangle is instance of Figure:\", isinstance(triangle, Figure))\n",
    "print(\"triangle is instance of Triangle:\", isinstance(triangle, Triangle))\n",
    "\n",
    "# Перевірка, чи є класи підкласами певних класів\n",
    "print(\"Triangle is subclass of Figure:\", issubclass(Triangle, Figure))\n",
    "print(\"Figure is subclass of Triangle:\", issubclass(Figure, Triangle))"
   ]
  },
  {
   "cell_type": "markdown",
   "metadata": {
    "id": "jjsaBZ-iM0Qq"
   },
   "source": [
    "8. (13б). Створіть клас BankAccount з приватними атрибутами balance та account_number. Реалізуйте методи поповнення та зняття коштів, забезпечивши належну інкапсуляцію. Підказка: використовуйте декоратори property та setter."
   ]
  },
  {
   "cell_type": "code",
   "execution_count": 64,
   "metadata": {
    "id": "xCvZ7lh8M7YA"
   },
   "outputs": [
    {
     "name": "stdout",
     "output_type": "stream",
     "text": [
      "Account number: 123456789\n",
      "Initial balance: 1000\n",
      "Deposited 100\n",
      "New balance: 1100\n",
      "Withdrew 200\n",
      "New balance: 900\n",
      "Withdrew 300\n",
      "New balance: 600\n",
      "Final balance: 600\n"
     ]
    }
   ],
   "source": [
    "class BankAccount():\n",
    "    def __init__(self, account_number, balance=0): \n",
    "        self.__account_number = account_number\n",
    "        self.__balance= balance\n",
    "\n",
    "    @property\n",
    "    def account_number(self):\n",
    "        return self.__account_number\n",
    "\n",
    "    @property\n",
    "    def balance(self):\n",
    "        return self.__balance\n",
    "\n",
    "    @balance.setter\n",
    "    def balance(self, new_balance):\n",
    "        if new_balance < 0:\n",
    "            print(\"Error: Balance cannot be negative\")\n",
    "        else:\n",
    "            self.__balance = new_balance\n",
    "    \n",
    "    def deposit(self, amount):\n",
    "        if amount > 0:\n",
    "            self.__balance += amount\n",
    "            print(f\"Deposited {amount}\\nNew balance: {self.__balance}\")\n",
    "        else:\n",
    "            print(\"Error: Invalid deposit amount\")\n",
    "    \n",
    "    def withdraw(self, amount):\n",
    "        if amount > 0:\n",
    "            if self.__balance >= amount:\n",
    "                self.__balance -= amount\n",
    "                print(f\"Withdrew {amount}\\nNew balance: {self.__balance}\")\n",
    "            else:\n",
    "                print(\"Error: Insufficient funds\")\n",
    "        else:\n",
    "            print(\"Error: Invalid withdrawal amount\")\n",
    "\n",
    "\n",
    "account = BankAccount(\"123456789\", 1000)\n",
    "\n",
    "print(\"Account number:\", account.account_number)\n",
    "print(\"Initial balance:\", account.balance)\n",
    "\n",
    "account.deposit(100)\n",
    "account.withdraw(200)\n",
    "account.withdraw(300)\n",
    "\n",
    "print(\"Final balance:\", account.balance)\n",
    "        "
   ]
  },
  {
   "cell_type": "markdown",
   "metadata": {
    "id": "tIzL2SJTM8ft"
   },
   "source": [
    "9. (11б). Створіть клас Library, який містить список об'єктів типу Book. Реалізуйте методи для додавання книги, видалення книги та відображення списку книг."
   ]
  },
  {
   "cell_type": "code",
   "execution_count": 70,
   "metadata": {
    "id": "HWxfJKLtNAUZ"
   },
   "outputs": [
    {
     "name": "stdout",
     "output_type": "stream",
     "text": [
      "Book Harry Potter 1 by Rowling added to the library.\n",
      "Book Harry Potter 2 by Rowling added to the library.\n",
      "Book Harry Potter 3 by Rowling added to the library.\n",
      "\n",
      "Books in the library:\n",
      "Harry Potter 1 by Rowling\n",
      "Harry Potter 2 by Rowling\n",
      "Harry Potter 3 by Rowling\n",
      "\n",
      "Book Harry Potter 3 removed from the library.\n",
      "\n",
      "Books in the library:\n",
      "Harry Potter 1 by Rowling\n",
      "Harry Potter 2 by Rowling\n"
     ]
    }
   ],
   "source": [
    "class Book():\n",
    "    def __init__(self, title, author):\n",
    "        self.title = title\n",
    "        self.author = author\n",
    "\n",
    "class Library():\n",
    "    def __init__(self):\n",
    "        self.books = []\n",
    "\n",
    "    def add_book(self, book):\n",
    "        self.books.append(book)\n",
    "        print(f\"Book {book.title} by {book.author} added to the library.\")\n",
    "\n",
    "    def remove_book(self, title):\n",
    "        for book in self.books:\n",
    "            if book.title == title:\n",
    "                self.books.remove(book)\n",
    "                print(f\"Book {book.title} removed from the library.\")\n",
    "                return\n",
    "        print(f\"Book with title {title} not found in the library.\")\n",
    "\n",
    "    def display_books(self):\n",
    "        if self.books:\n",
    "            print(\"Books in the library:\")\n",
    "            for book in self.books:\n",
    "                print(f\"{book.title} by {book.author}\")\n",
    "        else:\n",
    "            print(\"The library is empty.\")\n",
    "\n",
    "\n",
    "library = Library()\n",
    "\n",
    "book1 = Book(\"Harry Potter 1\", \"Rowling\")\n",
    "book2 = Book(\"Harry Potter 2\", \"Rowling\")\n",
    "book3 = Book(\"Harry Potter 3\", \"Rowling\")\n",
    "\n",
    "library.add_book(book1)\n",
    "library.add_book(book2)\n",
    "library.add_book(book3)\n",
    "print()\n",
    "library.display_books()\n",
    "print()\n",
    "library.remove_book(\"Harry Potter 3\")\n",
    "print()\n",
    "library.display_books()\n"
   ]
  },
  {
   "cell_type": "markdown",
   "metadata": {
    "id": "lmV8pAwwNIqu"
   },
   "source": [
    "10. (13б). Створіть клас Person з атрибутами name та age. Створіть ще один клас Employee з такими атрибутами, як department та salary. Створіть клас Manager, який успадковує обидва класи Person та Employee. Продемонструйте використання множинної спадковості, створивши обʼєкт класу Manager та отримавши mro для цього класу."
   ]
  },
  {
   "cell_type": "code",
   "execution_count": 81,
   "metadata": {
    "id": "R49grKlWNPeN"
   },
   "outputs": [
    {
     "name": "stdout",
     "output_type": "stream",
     "text": [
      "[<class '__main__.Manager'>, <class '__main__.Person'>, <class '__main__.Employee'>, <class 'object'>]\n"
     ]
    }
   ],
   "source": [
    "class Person():\n",
    "    def __init__(self, name, age):\n",
    "        self.name = name\n",
    "        self.age = age\n",
    "\n",
    "class Employee():\n",
    "    def __init__(self, department, salary):\n",
    "        self.department = department\n",
    "        self.salary = salary\n",
    "\n",
    "class Manager(Person, Employee):\n",
    "    def __init__(self, name, age, department, salary):\n",
    "        Person.__init__(self, name, age)\n",
    "        Employee.__init__(self, department, salary)\n",
    "\n",
    "manager = Manager(\"John\", 40, \"HR\", 5000)\n",
    "\n",
    "print(Manager.mro())\n"
   ]
  },
  {
   "cell_type": "markdown",
   "metadata": {
    "id": "dIJyUiNBFG8G"
   },
   "source": [
    "# II. Iterator"
   ]
  },
  {
   "cell_type": "markdown",
   "metadata": {
    "id": "13vsm0NyKIzL"
   },
   "source": [
    "11. (4б). Визначте рядок(str) з 4ма різними за значенням символами. Створіть ітератор на основі цього рядка. Викличте 5 разів функцію next на ітераторі, 4ри перших з них огорніть у ф-цію print()."
   ]
  },
  {
   "cell_type": "code",
   "execution_count": 91,
   "metadata": {
    "id": "81ntabAkKuz-"
   },
   "outputs": [
    {
     "ename": "TypeError",
     "evalue": "'str_ascii_iterator' object is not callable",
     "output_type": "error",
     "traceback": [
      "\u001b[1;31m---------------------------------------------------------------------------\u001b[0m",
      "\u001b[1;31mTypeError\u001b[0m                                 Traceback (most recent call last)",
      "Cell \u001b[1;32mIn[91], line 2\u001b[0m\n\u001b[0;32m      1\u001b[0m st \u001b[38;5;241m=\u001b[39m \u001b[38;5;124m\"\u001b[39m\u001b[38;5;124mabcd\u001b[39m\u001b[38;5;124m\"\u001b[39m\n\u001b[1;32m----> 2\u001b[0m iter1 \u001b[38;5;241m=\u001b[39m \u001b[38;5;28;43miter\u001b[39;49m\u001b[43m(\u001b[49m\u001b[43mst\u001b[49m\u001b[43m)\u001b[49m\n\u001b[0;32m      3\u001b[0m \u001b[38;5;28mprint\u001b[39m(\u001b[38;5;28mnext\u001b[39m(iter1))\n\u001b[0;32m      4\u001b[0m \u001b[38;5;28mprint\u001b[39m(\u001b[38;5;28mnext\u001b[39m(iter1))\n",
      "\u001b[1;31mTypeError\u001b[0m: 'str_ascii_iterator' object is not callable"
     ]
    }
   ],
   "source": [
    "st = \"abcd\"\n",
    "iter1 = iter(st)\n",
    "print(next(iter1))\n",
    "print(next(iter1))\n",
    "print(next(iter1))\n",
    "print(next(iter1))\n",
    "print(next(iter1)) "
   ]
  },
  {
   "cell_type": "markdown",
   "metadata": {
    "id": "aekWHGXOLRsO"
   },
   "source": [
    "А що якщо викликати цю ж функцію на рядку?"
   ]
  },
  {
   "cell_type": "code",
   "execution_count": 84,
   "metadata": {
    "id": "mxATGsErLV1i"
   },
   "outputs": [
    {
     "ename": "TypeError",
     "evalue": "'str' object is not an iterator",
     "output_type": "error",
     "traceback": [
      "\u001b[1;31m---------------------------------------------------------------------------\u001b[0m",
      "\u001b[1;31mTypeError\u001b[0m                                 Traceback (most recent call last)",
      "Cell \u001b[1;32mIn[84], line 1\u001b[0m\n\u001b[1;32m----> 1\u001b[0m \u001b[38;5;28mprint\u001b[39m(\u001b[38;5;28;43mnext\u001b[39;49m\u001b[43m(\u001b[49m\u001b[43mmy_str\u001b[49m\u001b[43m)\u001b[49m)\n",
      "\u001b[1;31mTypeError\u001b[0m: 'str' object is not an iterator"
     ]
    }
   ],
   "source": [
    "print(next(my_str))"
   ]
  },
  {
   "cell_type": "markdown",
   "metadata": {
    "id": "XwtMEopwJ4pH"
   },
   "source": [
    " 12. (5б). Опишіть своїми словами в одному реченні, як ви розумієте різницю між ітерабельними обʼєктами та ітераторами (можна на прикладі)."
   ]
  },
  {
   "cell_type": "markdown",
   "metadata": {
    "id": "-sHrODc3KFn8"
   },
   "source": [
    "Ітерабельні об'єкти - це ті, з яких можна поелементно отримати значення, які можна перебрати у циклі for, наприклад, списки або рядки. Ітератори - це спеціальні об'єкти, які дозволяють послідовно отримувати значення з ітерабельного об'єкта та запам'ятовувати свій стан між кожним зверненням, їх можна створити з ітерабельного об'єкта за допомогою функції iter()."
   ]
  },
  {
   "cell_type": "markdown",
   "metadata": {
    "id": "E9qJWmNbK8Gl"
   },
   "source": [
    "13. (11б). Створіть клас, що має визначений Iterator Protocol та при кожному виклику next повертає літери англійської абетки, поки вони не вичерпаються."
   ]
  },
  {
   "cell_type": "code",
   "execution_count": 88,
   "metadata": {
    "id": "cqx-g_RsLo6I"
   },
   "outputs": [
    {
     "name": "stdout",
     "output_type": "stream",
     "text": [
      "a\n",
      "b\n",
      "c\n",
      "d\n",
      "e\n",
      "f\n",
      "g\n",
      "h\n",
      "i\n",
      "j\n",
      "k\n",
      "l\n",
      "m\n",
      "n\n",
      "o\n",
      "p\n",
      "q\n",
      "r\n",
      "s\n",
      "t\n",
      "u\n",
      "v\n",
      "w\n",
      "x\n",
      "y\n",
      "z\n"
     ]
    }
   ],
   "source": [
    "class AlphabetIterator:\n",
    "    def __init__(self):\n",
    "        self.current_letter = ord('a')\n",
    "\n",
    "    def __iter__(self):\n",
    "        return self\n",
    "\n",
    "    def __next__(self):\n",
    "        if self.current_letter <= ord('z'):\n",
    "            letter = chr(self.current_letter)\n",
    "            self.current_letter += 1\n",
    "            return letter\n",
    "        else:\n",
    "            raise StopIteration\n",
    "\n",
    "alphabet_iterator = AlphabetIterator()\n",
    "for letter in alphabet_iterator:\n",
    "    print(letter)\n"
   ]
  },
  {
   "cell_type": "markdown",
   "metadata": {
    "id": "Z3E3S_s1Fv7-"
   },
   "source": [
    "# Вітаю! Ви велика(ий) молодець, що впоралась(вся). Похваліть себе та побалуйте чимось приємним. Я Вами пишаюся."
   ]
  }
 ],
 "metadata": {
  "colab": {
   "provenance": []
  },
  "kernelspec": {
   "display_name": "Python 3 (ipykernel)",
   "language": "python",
   "name": "python3"
  },
  "language_info": {
   "codemirror_mode": {
    "name": "ipython",
    "version": 3
   },
   "file_extension": ".py",
   "mimetype": "text/x-python",
   "name": "python",
   "nbconvert_exporter": "python",
   "pygments_lexer": "ipython3",
   "version": "3.12.1"
  }
 },
 "nbformat": 4,
 "nbformat_minor": 4
}
