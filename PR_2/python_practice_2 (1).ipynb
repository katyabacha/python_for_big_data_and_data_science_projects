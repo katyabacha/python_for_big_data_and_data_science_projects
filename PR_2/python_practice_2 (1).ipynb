{
 "cells": [
  {
   "cell_type": "markdown",
   "metadata": {
    "id": "p9wwt0LZzNvn"
   },
   "source": [
    "# I. Змінні та памʼять."
   ]
  },
  {
   "cell_type": "markdown",
   "metadata": {
    "id": "HTJrrm95xSV9"
   },
   "source": [
    "1. Створити змінні, що посилаються на два цілих числа, що однакові за значенням, де значення належить проміжку від -5 до 256. Перевірте, чи будуть ці змінні рівні тільки за значенням або ж ще будуть посилатися на один і той самий обʼєкт в памʼяті? Наведіть код та дайте текстову відповідь нижче."
   ]
  },
  {
   "cell_type": "code",
   "execution_count": 167,
   "metadata": {
    "id": "TATni2vzayjG",
    "scrolled": true
   },
   "outputs": [
    {
     "name": "stdout",
     "output_type": "stream",
     "text": [
      "Yes, they equal:\n",
      "100 == 100\n",
      "\n",
      "Yes, they refer to the same object in memory:\n",
      "140720686974488\n",
      "140720686974488\n"
     ]
    }
   ],
   "source": [
    "x = 100\n",
    "y = 100\n",
    "if x == y:\n",
    "    print(\"Yes, they equal:\")\n",
    "    print(x, \"==\", y)\n",
    "else:\n",
    "    print(\"No, they do not equal\")\n",
    "if id(x) == id(y):\n",
    "    print(\"\\nYes, they refer to the same object in memory:\")\n",
    "    print(id(x))\n",
    "    print(id(y))\n",
    "else:\n",
    "    print(\"No, they do not refer to the same object in memory\")"
   ]
  },
  {
   "cell_type": "markdown",
   "metadata": {
    "id": "zfRG_o3WbRdg"
   },
   "source": [
    "Вони однакові за значенням т посилаються на один і той самий обʼєкт в памʼяті"
   ]
  },
  {
   "cell_type": "markdown",
   "metadata": {
    "id": "ISORzt6M3vAt"
   },
   "source": [
    "2. За допомогою якої функції можна перевірити належність змінної до вказаного типу даних (напр. чи змінна True посилається на значення булевого та цілочисленого типу)?"
   ]
  },
  {
   "cell_type": "code",
   "execution_count": 174,
   "metadata": {
    "id": "9vL9CFaMbfyo"
   },
   "outputs": [
    {
     "name": "stdout",
     "output_type": "stream",
     "text": [
      "Is the variable x of type bool? True \n",
      "Is the variable x of type int? True\n"
     ]
    }
   ],
   "source": [
    "v = True\n",
    "isInstance1 = isinstance(v, bool)\n",
    "isInstance2 = isinstance(v, int)\n",
    "print(\"Is the variable x of type bool?\", isInstance1, \"\\nIs the variable x of type int?\", isInstance2)"
   ]
  },
  {
   "cell_type": "markdown",
   "metadata": {
    "id": "tRxugKAxwYLw"
   },
   "source": [
    "# II. Цілі числа та числа з рухомою комою"
   ]
  },
  {
   "cell_type": "markdown",
   "metadata": {
    "id": "NLHkgd5Gybc8"
   },
   "source": [
    "3. Створити дві змінні, що посилаються на будь-які ціле число та число з рухомою комою та продемонструвати такі арифметичні операції: додавання, віднімання, ділення, множення, ділення без залишку, ділення по модулю, приведення до ступеню. Всі результати операцій вивести на екран."
   ]
  },
  {
   "cell_type": "code",
   "execution_count": 175,
   "metadata": {
    "id": "nb8u_3pjb2cA"
   },
   "outputs": [
    {
     "name": "stdout",
     "output_type": "stream",
     "text": [
      "x = 10 y = 5.0\n",
      "x + y = 15.0\n",
      "x - y = 5.0\n",
      "x * y = 50.0\n",
      "x / y = 2.0\n",
      "x // y = 2.0\n",
      "x % y = 0.0\n",
      "x^y = 100000.0\n",
      "y^x = 9765625.0\n"
     ]
    }
   ],
   "source": [
    "x = 10\n",
    "y = 5.0\n",
    "print(\"x =\", x, \"y =\", y)\n",
    "print(\"x + y =\", x+y)\n",
    "print(\"x - y =\", x-y)\n",
    "print(\"x * y =\", x*y)\n",
    "print(\"x / y =\", x/y)\n",
    "print(\"x // y =\", x//y)\n",
    "print(\"x % y =\", x%y)\n",
    "print(\"x^y =\", x**y)\n",
    "print(\"y^x =\", y**x)\n"
   ]
  },
  {
   "cell_type": "markdown",
   "metadata": {
    "id": "1kBClKgPzZnC"
   },
   "source": [
    "4. Використовуючи змінні з вправи 3, продемонструйте механізм явного перетворення типів, де числа з рухомою комою перетворюються на цілі числа. Також визначте змінну, що посилається на значення булевого типу і спробуйте явно привести її до цілого числа."
   ]
  },
  {
   "cell_type": "code",
   "execution_count": 176,
   "metadata": {
    "id": "TbqJbkeUcKsD"
   },
   "outputs": [
    {
     "name": "stdout",
     "output_type": "stream",
     "text": [
      "5.0 -> 5\n",
      "True -> 1\n"
     ]
    }
   ],
   "source": [
    "z = True\n",
    "y_int = int(y)\n",
    "z_int = int(z)\n",
    "print(y, \"->\", y_int)\n",
    "print(z, \"->\", z_int)"
   ]
  },
  {
   "cell_type": "markdown",
   "metadata": {
    "id": "EVJ7AflwxrZi"
   },
   "source": [
    "# IІІ. Рядки (String)."
   ]
  },
  {
   "cell_type": "markdown",
   "metadata": {
    "id": "_s5ECzz9zE61"
   },
   "source": [
    "5. Створити пустий рядок двома різними способами."
   ]
  },
  {
   "cell_type": "code",
   "execution_count": 177,
   "metadata": {
    "id": "fkZJHu9Scvc-"
   },
   "outputs": [],
   "source": [
    "sr1 = ''\n",
    "st2 = \"\""
   ]
  },
  {
   "cell_type": "markdown",
   "metadata": {
    "id": "4Bdn9J3MzLf_"
   },
   "source": [
    "6. Створити рядок з апострофом. Зробити його сирим. Вивести обидва рядка на екран."
   ]
  },
  {
   "cell_type": "code",
   "execution_count": 178,
   "metadata": {
    "id": "ivji_hsmc0GH",
    "scrolled": true
   },
   "outputs": [
    {
     "name": "stdout",
     "output_type": "stream",
     "text": [
      "Str1: прив'язаний\n",
      " len = 12\n",
      "Str2: прив'язаний len = 11\n"
     ]
    }
   ],
   "source": [
    "str1 = '''прив'язаний\\n'''\n",
    "str2 = str1.rstrip()\n",
    "print(\"Str1:\", str1, \"len =\", len(str1))\n",
    "print(\"Str2:\", str2, \"len =\", len(str2))\n"
   ]
  },
  {
   "cell_type": "markdown",
   "metadata": {
    "id": "bg_d8wM4z8dS"
   },
   "source": [
    "7. Створити змінну, що буде посилатися на Ваше прізвище латинкою. Створити форматований рядок, який буде мати вигляд \"My surname is ______\", де на місці нижніх підкреслень буде Ваше прізвище зі змінної."
   ]
  },
  {
   "cell_type": "code",
   "execution_count": 179,
   "metadata": {
    "id": "kuxFgpWndACq",
    "scrolled": true
   },
   "outputs": [
    {
     "name": "stdout",
     "output_type": "stream",
     "text": [
      "Format line: My surname is Bachynska\n"
     ]
    }
   ],
   "source": [
    "surname = \"Bachynska\"\n",
    "fline = f\"Format line: My surname is {surname}\"\n",
    "print(fline)"
   ]
  },
  {
   "cell_type": "markdown",
   "metadata": {
    "id": "1Nc6RqvQ0hxU"
   },
   "source": [
    "8. Маючи рядок \"My dog is crazy.\" перетворити його на список [\"my\", \"dog\", \"is\", \"crazy\"]"
   ]
  },
  {
   "cell_type": "code",
   "execution_count": 180,
   "metadata": {
    "id": "w1Ya4RqedUhw"
   },
   "outputs": [
    {
     "name": "stdout",
     "output_type": "stream",
     "text": [
      "My string: My dog is crazy. \n",
      "My list: ['My', 'dog', 'is', 'crazy']\n"
     ]
    }
   ],
   "source": [
    "str = \"My dog is crazy.\"\n",
    "str1 = str.replace(\".\",\"\").split(\" \")\n",
    "print(\"My string:\", str, \"\\nMy list:\", str1)"
   ]
  },
  {
   "cell_type": "markdown",
   "metadata": {
    "id": "GYVqN9uP1D4n"
   },
   "source": [
    "# IV. Робота зі списками."
   ]
  },
  {
   "cell_type": "markdown",
   "metadata": {
    "id": "7-DeDunw2sO-"
   },
   "source": [
    "9. Створити список двома різними за синтаксисом способами. За допомогою вбудованої функції обчисліть довжину одного з них."
   ]
  },
  {
   "cell_type": "code",
   "execution_count": 181,
   "metadata": {
    "id": "zxg06Uuxdyoh"
   },
   "outputs": [
    {
     "name": "stdout",
     "output_type": "stream",
     "text": [
      "Length of l2: 0\n"
     ]
    }
   ],
   "source": [
    "l1 = [1, 3, 5]\n",
    "l2 = list()\n",
    "print(\"Length of l2:\", len(l2))"
   ]
  },
  {
   "cell_type": "markdown",
   "metadata": {
    "id": "8vmGUTjL22gI"
   },
   "source": [
    "10. Створіть два списка та за допомогою спеціального методу додайте другий з них в якості останнього елемента першого."
   ]
  },
  {
   "cell_type": "code",
   "execution_count": 182,
   "metadata": {
    "id": "uHtjWYw7d7hm"
   },
   "outputs": [
    {
     "name": "stdout",
     "output_type": "stream",
     "text": [
      "l1: [1, 2, 3] \n",
      "l2 [4, 5, 6] \n",
      "->\n",
      "l1: [1, 2, 3, [4, 5, 6]]\n"
     ]
    }
   ],
   "source": [
    "l1 = [1, 2, 3]\n",
    "l2 = [4, 5, 6]\n",
    "print(\"l1:\", l1, \"\\nl2\", l2, \"\\n->\")\n",
    "l1.append(l2)\n",
    "print(\"l1:\", l1)"
   ]
  },
  {
   "cell_type": "markdown",
   "metadata": {
    "id": "JC3BkD-67_--"
   },
   "source": [
    "11. Створіть список, де елементами цього списку також є списки. Отримай перший елемент з останнього рядка та виведи значення на екран."
   ]
  },
  {
   "cell_type": "code",
   "execution_count": 183,
   "metadata": {
    "id": "Kz2jZHsGeLlz"
   },
   "outputs": [
    {
     "name": "stdout",
     "output_type": "stream",
     "text": [
      "The first element from the last line: 5\n"
     ]
    }
   ],
   "source": [
    "ll = [[1, 2], [3, 4], [5, 6]]\n",
    "l4 = ll[-1][0]\n",
    "print(\"The first element from the last line:\", l4)"
   ]
  },
  {
   "cell_type": "markdown",
   "metadata": {
    "id": "JA47PKTv8zFK"
   },
   "source": [
    "12. Створіть список з десяти елементів різного типу. Отримайте всі елементи, окрім двох перших та двох останніх та збережіть їх в новій змінній."
   ]
  },
  {
   "cell_type": "code",
   "execution_count": 184,
   "metadata": {
    "id": "_rHdUR-ueP4-"
   },
   "outputs": [
    {
     "name": "stdout",
     "output_type": "stream",
     "text": [
      "My list: [1, 1.1, True, '333', 1, 1.1, 1.1, 1, False, 1] \n",
      "New list: [True, '333', 1, 1.1, 1.1, 1]\n"
     ]
    }
   ],
   "source": [
    "l = [1, 1.1, True, '333', 1, 1.1, 1.1, 1, False, 1]\n",
    "l1 = l[2:-2]\n",
    "print(\"My list:\", l, \"\\nNew list:\", l1)\n"
   ]
  },
  {
   "cell_type": "markdown",
   "metadata": {
    "id": "pCjR1dJb1Qbi"
   },
   "source": [
    "# V. Робота з кортежами."
   ]
  },
  {
   "cell_type": "markdown",
   "metadata": {
    "id": "fAZCxAX06R_k"
   },
   "source": [
    "14. Створити кортеж з один елементом."
   ]
  },
  {
   "cell_type": "code",
   "execution_count": 192,
   "metadata": {
    "id": "H7d82WkQev3e",
    "scrolled": true
   },
   "outputs": [
    {
     "name": "stdout",
     "output_type": "stream",
     "text": [
      "First tuple: 1\n"
     ]
    }
   ],
   "source": [
    "t = (1)\n",
    "print(\"First tuple:\", t)"
   ]
  },
  {
   "cell_type": "markdown",
   "metadata": {
    "id": "8LCtYcmI6w1M"
   },
   "source": [
    "15. Порівняйте список та кортеж. Назвіть схожості та відмінності, випадки використання."
   ]
  },
  {
   "cell_type": "markdown",
   "metadata": {
    "id": "fUsN1Hnue0C6"
   },
   "source": [
    "Відмінності: \n",
    "1. Синтаксис(дужки: список - , кортежі - ()),\n",
    "2. Зменність(списки змінні кортежі ні)\n",
    "3. Швидкість: списки повільніші ніж кортежі\n",
    "\n",
    "\n",
    "Схожість:\n",
    "1. Зберігають колекцію елементів\n",
    "2. Адресація\n",
    "3. Слайсинг"
   ]
  },
  {
   "cell_type": "markdown",
   "metadata": {
    "id": "m0xrwFijAmDD"
   },
   "source": [
    "16. Створіть кортеж з 11ти елементів чисел з рухомою комою та отримайте кожен парний за індексом елемент в зворотньому порядку. Наприклад, маючи (1.2, 2.3, 3.3, 4.3, 5.3, 6.3, 7.3, 8.3, 9.3, 0.3), отримати (0.3, 8.3, 6.3, 4.3, 2.3). Результат збережіть в нову змінну та виведіть на екран."
   ]
  },
  {
   "cell_type": "code",
   "execution_count": 186,
   "metadata": {
    "id": "p-5DAH6XfAGA"
   },
   "outputs": [
    {
     "name": "stdout",
     "output_type": "stream",
     "text": [
      "New tuple: (10.1, 8.8, 6.6, 4.4, 2.2) \n",
      "New tuple: (10.1, 8.8, 6.6, 4.4, 2.2)\n"
     ]
    }
   ],
   "source": [
    "t = (1.1, 2.2, 3.3, 4.4, 5.5, 6.6, 7.7, 8.8, 9.9, 10.1)\n",
    "t1 = t[::-2]\n",
    "print(\"New tuple:\", t1, \"\\nNew tuple:\", t1)"
   ]
  },
  {
   "cell_type": "markdown",
   "metadata": {
    "id": "rW_I9dt3x6cW"
   },
   "source": [
    "# VI. Множини (Set)."
   ]
  },
  {
   "cell_type": "markdown",
   "metadata": {
    "id": "zNjRLHLw1Bgg"
   },
   "source": [
    "17. Створити множину без елементів. Після цого за допомогою методу додайте кілька різних елементів до множини. Чи множини є змінним типом даних?"
   ]
  },
  {
   "cell_type": "code",
   "execution_count": 187,
   "metadata": {
    "id": "KOv7zc2Kfo4N"
   },
   "outputs": [
    {
     "name": "stdout",
     "output_type": "stream",
     "text": [
      "My set: {1, 2}\n"
     ]
    }
   ],
   "source": [
    "s = set()\n",
    "s.add(1)\n",
    "s. add(2)\n",
    "print(\"My set:\", s)"
   ]
  },
  {
   "cell_type": "markdown",
   "metadata": {
    "id": "vxS6dVYiftZQ"
   },
   "source": [
    "Так, множини є змінним типом данних"
   ]
  },
  {
   "cell_type": "markdown",
   "metadata": {
    "id": "gHpT0Zw_1HEF"
   },
   "source": [
    "18. Створити множину, маючи список my_list = [1, 1, 2, 67, 67, 8, 9]. Пояснити, чому \"зникли\" деякі елементи."
   ]
  },
  {
   "cell_type": "code",
   "execution_count": 188,
   "metadata": {
    "id": "qCN4uvJ_fxmu"
   },
   "outputs": [
    {
     "name": "stdout",
     "output_type": "stream",
     "text": [
      "My list: [1, 1, 2, 67, 67, 8, 9] \n",
      "My set: {1, 2, 67, 8, 9}\n"
     ]
    }
   ],
   "source": [
    "my_list = [1, 1, 2, 67, 67, 8, 9]\n",
    "my_set = set(my_list)\n",
    "print(\"My list:\", my_list, \"\\nMy set:\", my_set)"
   ]
  },
  {
   "cell_type": "markdown",
   "metadata": {
    "id": "tFNc1e20fyny"
   },
   "source": [
    "Set зберігає лише унікальні значення"
   ]
  },
  {
   "cell_type": "markdown",
   "metadata": {
    "id": "SRMkGizS1UwY"
   },
   "source": [
    "19. Створіть дві множини. Продемонстуйте над ними операції: обʼєднання, різниці, пересічі та симетричної різниці. Використовуйте методи, що не змінюють множини, а створюють нові."
   ]
  },
  {
   "cell_type": "code",
   "execution_count": 189,
   "metadata": {
    "id": "h0T-VuDnf3Ri"
   },
   "outputs": [
    {
     "name": "stdout",
     "output_type": "stream",
     "text": [
      "s1: {1, 2, 3, 4, 5} \n",
      "s2: {3, 4, 5, 6, 7}\n",
      "\n",
      "Union set: {1, 2, 3, 4, 5, 6, 7} \n",
      "Difference set: {1, 2} \n",
      "Intersection set: {3, 4, 5} \n",
      "Symmetric_difference set: {1, 2, 6, 7}\n"
     ]
    }
   ],
   "source": [
    "s1 = {1, 2, 3, 4, 5}\n",
    "s2 = {3, 4, 5, 6, 7}\n",
    "print(\"s1:\", s1, \"\\ns2:\", s2)\n",
    "\n",
    "s_u = s1.union(s2)\n",
    "s_d = s1.difference(s2)\n",
    "s_i = s1.intersection(s2)\n",
    "s_s_d = s1.symmetric_difference(s2)\n",
    "print(f\"\\nUnion set: {s_u} \\nDifference set: {s_d} \\nIntersection set: {s_i} \\nSymmetric_difference set: {s_s_d}\")\n"
   ]
  },
  {
   "cell_type": "markdown",
   "metadata": {
    "id": "kWc8gkzTx7Ea"
   },
   "source": [
    "# VII. Словники (Dictionary)."
   ]
  },
  {
   "cell_type": "markdown",
   "metadata": {
    "id": "i5FLwj-B2ybQ"
   },
   "source": [
    "20. Створіть пустий словник. До нього додайте чотири пари елементів такі, щоб їхні ключі були різних типів. Чи може список бути ключем? Чому?"
   ]
  },
  {
   "cell_type": "code",
   "execution_count": 190,
   "metadata": {
    "id": "hxgv3BzrgLAV"
   },
   "outputs": [
    {
     "name": "stdout",
     "output_type": "stream",
     "text": [
      "MY dictionary: {1: '1', 2.2: '2', '3': '3', (4, 5): '4'}\n"
     ]
    }
   ],
   "source": [
    "d = {}\n",
    "d[1] = \"1\"\n",
    "d[2.2] = \"2\"\n",
    "d[\"3\"] = \"3\"\n",
    "d[(4, 5)] = \"4\"\n",
    "print(\"MY dictionary:\", d)\n"
   ]
  },
  {
   "cell_type": "markdown",
   "metadata": {
    "id": "zwa7UVN-gR3m"
   },
   "source": [
    "Ні, не може, бо список є змінним"
   ]
  },
  {
   "cell_type": "markdown",
   "metadata": {
    "id": "WM_pMlJsgoNf"
   },
   "source": [
    "21. Створіть словник, де значенням в одній з пар теж буде словник, який теж має вкладений словник. Виведіть на екран значення, що міститься в словнику, що знаходиться на найнижчому рівні ієрархії вкладеності (найбільш внутрішній)."
   ]
  },
  {
   "cell_type": "code",
   "execution_count": 191,
   "metadata": {
    "id": "60dlP7IHhAy4"
   },
   "outputs": [
    {
     "name": "stdout",
     "output_type": "stream",
     "text": [
      "I am here\n"
     ]
    }
   ],
   "source": [
    "d = {'1': 1, '2': 2, '3': {'1': 1, '2': { '1': \"1\", '2': \"2\", '3': \"I am here\"}}, '4': 3}\n",
    "print(d['3']['2']['3'])"
   ]
  },
  {
   "cell_type": "markdown",
   "metadata": {
    "id": "xOZP0hkx6cCr"
   },
   "source": [
    "# Вітаю! Ви велика(ий) молодець, що впоралась(вся). Похваліть себе та побалуйте чимось приємним. Я Вами пишаюся."
   ]
  }
 ],
 "metadata": {
  "colab": {
   "provenance": []
  },
  "kernelspec": {
   "display_name": "Python 3 (ipykernel)",
   "language": "python",
   "name": "python3"
  },
  "language_info": {
   "codemirror_mode": {
    "name": "ipython",
    "version": 3
   },
   "file_extension": ".py",
   "mimetype": "text/x-python",
   "name": "python",
   "nbconvert_exporter": "python",
   "pygments_lexer": "ipython3",
   "version": "3.12.1"
  }
 },
 "nbformat": 4,
 "nbformat_minor": 4
}
